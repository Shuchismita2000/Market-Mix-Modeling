{
 "cells": [
  {
   "cell_type": "code",
   "execution_count": 1,
   "id": "e74a2ab6",
   "metadata": {},
   "outputs": [],
   "source": [
    "import pandas as pd \n",
    "import numpy as np "
   ]
  },
  {
   "cell_type": "code",
   "execution_count": null,
   "id": "3d2e294a",
   "metadata": {},
   "outputs": [],
   "source": [
    "df = pd.read_csv(r\"D:\\portfolio\\Fractal MMM\\Assignment\\PYQ2\\data\\mmm_data.csv\")"
   ]
  },
  {
   "cell_type": "code",
   "execution_count": 3,
   "id": "a52844c7",
   "metadata": {},
   "outputs": [
    {
     "data": {
      "text/html": [
       "<div>\n",
       "<style scoped>\n",
       "    .dataframe tbody tr th:only-of-type {\n",
       "        vertical-align: middle;\n",
       "    }\n",
       "\n",
       "    .dataframe tbody tr th {\n",
       "        vertical-align: top;\n",
       "    }\n",
       "\n",
       "    .dataframe thead th {\n",
       "        text-align: right;\n",
       "    }\n",
       "</style>\n",
       "<table border=\"1\" class=\"dataframe\">\n",
       "  <thead>\n",
       "    <tr style=\"text-align: right;\">\n",
       "      <th></th>\n",
       "      <th>Department</th>\n",
       "      <th>Week_Ending</th>\n",
       "      <th>Year</th>\n",
       "      <th>MAT</th>\n",
       "      <th>Sales</th>\n",
       "      <th>Discount1</th>\n",
       "      <th>Discount2</th>\n",
       "      <th>Holiday Dummy</th>\n",
       "      <th>Total SKU</th>\n",
       "      <th>Gasoline Price</th>\n",
       "      <th>Average Price</th>\n",
       "      <th>Email Clicks</th>\n",
       "      <th>Email Spends</th>\n",
       "      <th>Organic Search Impressions</th>\n",
       "      <th>Modular Video Impressions</th>\n",
       "      <th>Modular Video Spends</th>\n",
       "      <th>Paid Social Impressions</th>\n",
       "      <th>Paid Social Spends</th>\n",
       "      <th>Paid Search Impressions</th>\n",
       "      <th>Paid Search Spends</th>\n",
       "    </tr>\n",
       "  </thead>\n",
       "  <tbody>\n",
       "    <tr>\n",
       "      <th>0</th>\n",
       "      <td>Brand A</td>\n",
       "      <td>2022-02-05 00:00:00</td>\n",
       "      <td>FY_2022</td>\n",
       "      <td>MAT_2022</td>\n",
       "      <td>5,54,97,076.1</td>\n",
       "      <td>0.0</td>\n",
       "      <td>0.0</td>\n",
       "      <td>-</td>\n",
       "      <td>2,98,82,443.5</td>\n",
       "      <td>1,070.9</td>\n",
       "      <td>17.7</td>\n",
       "      <td>5,34,418.5</td>\n",
       "      <td>46,008.3</td>\n",
       "      <td>26,62,747.5</td>\n",
       "      <td>1,15,99,332.5</td>\n",
       "      <td>8,15,221.0</td>\n",
       "      <td>28,04,64,068.5</td>\n",
       "      <td>38,61,346.5</td>\n",
       "      <td>6,779.5</td>\n",
       "      <td>671.9</td>\n",
       "    </tr>\n",
       "    <tr>\n",
       "      <th>1</th>\n",
       "      <td>Brand A</td>\n",
       "      <td>2022-02-12 00:00:00</td>\n",
       "      <td>FY_2022</td>\n",
       "      <td>MAT_2022</td>\n",
       "      <td>5,77,37,793.8</td>\n",
       "      <td>0.0</td>\n",
       "      <td>0.0</td>\n",
       "      <td>-</td>\n",
       "      <td>2,97,19,511.5</td>\n",
       "      <td>1,070.9</td>\n",
       "      <td>17.7</td>\n",
       "      <td>6,31,368.5</td>\n",
       "      <td>54,354.7</td>\n",
       "      <td>26,09,978.0</td>\n",
       "      <td>1,31,42,160.5</td>\n",
       "      <td>9,23,653.6</td>\n",
       "      <td>23,50,58,652.5</td>\n",
       "      <td>32,36,218.1</td>\n",
       "      <td>5,110.0</td>\n",
       "      <td>506.5</td>\n",
       "    </tr>\n",
       "    <tr>\n",
       "      <th>2</th>\n",
       "      <td>Brand A</td>\n",
       "      <td>2022-02-19 00:00:00</td>\n",
       "      <td>FY_2022</td>\n",
       "      <td>MAT_2022</td>\n",
       "      <td>5,40,44,453.1</td>\n",
       "      <td>0.1</td>\n",
       "      <td>0.0</td>\n",
       "      <td>-</td>\n",
       "      <td>2,93,53,173.5</td>\n",
       "      <td>1,070.9</td>\n",
       "      <td>17.8</td>\n",
       "      <td>6,38,092.0</td>\n",
       "      <td>54,933.6</td>\n",
       "      <td>24,01,283.5</td>\n",
       "      <td>1,29,49,660.5</td>\n",
       "      <td>9,10,124.3</td>\n",
       "      <td>25,74,80,818.0</td>\n",
       "      <td>35,44,919.9</td>\n",
       "      <td>2,842.0</td>\n",
       "      <td>281.7</td>\n",
       "    </tr>\n",
       "    <tr>\n",
       "      <th>3</th>\n",
       "      <td>Brand A</td>\n",
       "      <td>2022-02-26 00:00:00</td>\n",
       "      <td>FY_2022</td>\n",
       "      <td>MAT_2022</td>\n",
       "      <td>5,57,75,814.8</td>\n",
       "      <td>0.1</td>\n",
       "      <td>0.0</td>\n",
       "      <td>-</td>\n",
       "      <td>2,93,24,354.5</td>\n",
       "      <td>1,070.9</td>\n",
       "      <td>17.8</td>\n",
       "      <td>5,38,643.0</td>\n",
       "      <td>46,372.0</td>\n",
       "      <td>23,96,597.0</td>\n",
       "      <td>1,24,01,567.5</td>\n",
       "      <td>8,71,603.4</td>\n",
       "      <td>27,68,92,035.0</td>\n",
       "      <td>38,12,167.8</td>\n",
       "      <td>3,031.0</td>\n",
       "      <td>300.4</td>\n",
       "    </tr>\n",
       "    <tr>\n",
       "      <th>4</th>\n",
       "      <td>Brand A</td>\n",
       "      <td>2022-03-05 00:00:00</td>\n",
       "      <td>FY_2022</td>\n",
       "      <td>MAT_2022</td>\n",
       "      <td>5,83,92,060.6</td>\n",
       "      <td>0.0</td>\n",
       "      <td>0.0</td>\n",
       "      <td>-</td>\n",
       "      <td>2,91,92,688.0</td>\n",
       "      <td>1,282.7</td>\n",
       "      <td>17.8</td>\n",
       "      <td>6,39,628.5</td>\n",
       "      <td>55,065.8</td>\n",
       "      <td>24,27,106.5</td>\n",
       "      <td>88,57,677.5</td>\n",
       "      <td>6,22,532.7</td>\n",
       "      <td>19,30,81,850.5</td>\n",
       "      <td>26,58,293.9</td>\n",
       "      <td>3,395.0</td>\n",
       "      <td>336.5</td>\n",
       "    </tr>\n",
       "  </tbody>\n",
       "</table>\n",
       "</div>"
      ],
      "text/plain": [
       "  Department          Week_Ending     Year       MAT            Sales  \\\n",
       "0    Brand A  2022-02-05 00:00:00  FY_2022  MAT_2022   5,54,97,076.1    \n",
       "1    Brand A  2022-02-12 00:00:00  FY_2022  MAT_2022   5,77,37,793.8    \n",
       "2    Brand A  2022-02-19 00:00:00  FY_2022  MAT_2022   5,40,44,453.1    \n",
       "3    Brand A  2022-02-26 00:00:00  FY_2022  MAT_2022   5,57,75,814.8    \n",
       "4    Brand A  2022-03-05 00:00:00  FY_2022  MAT_2022   5,83,92,060.6    \n",
       "\n",
       "   Discount1  Discount2 Holiday Dummy        Total SKU Gasoline Price  \\\n",
       "0        0.0        0.0          -      2,98,82,443.5        1,070.9    \n",
       "1        0.0        0.0          -      2,97,19,511.5        1,070.9    \n",
       "2        0.1        0.0          -      2,93,53,173.5        1,070.9    \n",
       "3        0.1        0.0          -      2,93,24,354.5        1,070.9    \n",
       "4        0.0        0.0          -      2,91,92,688.0        1,282.7    \n",
       "\n",
       "   Average Price  Email Clicks Email Spends Organic Search Impressions  \\\n",
       "0           17.7   5,34,418.5     46,008.3                26,62,747.5    \n",
       "1           17.7   6,31,368.5     54,354.7                26,09,978.0    \n",
       "2           17.8   6,38,092.0     54,933.6                24,01,283.5    \n",
       "3           17.8   5,38,643.0     46,372.0                23,96,597.0    \n",
       "4           17.8   6,39,628.5     55,065.8                24,27,106.5    \n",
       "\n",
       "  Modular Video Impressions Modular Video Spends Paid Social Impressions  \\\n",
       "0            1,15,99,332.5           8,15,221.0          28,04,64,068.5    \n",
       "1            1,31,42,160.5           9,23,653.6          23,50,58,652.5    \n",
       "2            1,29,49,660.5           9,10,124.3          25,74,80,818.0    \n",
       "3            1,24,01,567.5           8,71,603.4          27,68,92,035.0    \n",
       "4              88,57,677.5           6,22,532.7          19,30,81,850.5    \n",
       "\n",
       "  Paid Social Spends Paid Search Impressions Paid Search Spends  \n",
       "0       38,61,346.5                 6,779.5              671.9   \n",
       "1       32,36,218.1                 5,110.0              506.5   \n",
       "2       35,44,919.9                 2,842.0              281.7   \n",
       "3       38,12,167.8                 3,031.0              300.4   \n",
       "4       26,58,293.9                 3,395.0              336.5   "
      ]
     },
     "execution_count": 3,
     "metadata": {},
     "output_type": "execute_result"
    }
   ],
   "source": [
    "df.head()"
   ]
  },
  {
   "cell_type": "code",
   "execution_count": 4,
   "id": "c26ee8a7",
   "metadata": {},
   "outputs": [
    {
     "data": {
      "text/plain": [
       "(122, 20)"
      ]
     },
     "execution_count": 4,
     "metadata": {},
     "output_type": "execute_result"
    }
   ],
   "source": [
    "df.shape"
   ]
  },
  {
   "cell_type": "code",
   "execution_count": 5,
   "id": "b1fc12a8",
   "metadata": {},
   "outputs": [
    {
     "data": {
      "text/plain": [
       "Index(['Department', 'Week_Ending', 'Year', 'MAT', 'Sales', 'Discount1',\n",
       "       'Discount2', 'Holiday Dummy', 'Total SKU', 'Gasoline Price',\n",
       "       'Average Price', 'Email Clicks', 'Email Spends',\n",
       "       'Organic Search Impressions', 'Modular Video Impressions',\n",
       "       'Modular Video Spends', 'Paid Social Impressions', 'Paid Social Spends',\n",
       "       'Paid Search Impressions', 'Paid Search Spends'],\n",
       "      dtype='object')"
      ]
     },
     "execution_count": 5,
     "metadata": {},
     "output_type": "execute_result"
    }
   ],
   "source": [
    "df.columns"
   ]
  },
  {
   "cell_type": "code",
   "execution_count": 6,
   "id": "78ce5a22",
   "metadata": {},
   "outputs": [
    {
     "name": "stdout",
     "output_type": "stream",
     "text": [
      "<class 'pandas.core.frame.DataFrame'>\n",
      "RangeIndex: 122 entries, 0 to 121\n",
      "Data columns (total 20 columns):\n",
      " #   Column                      Non-Null Count  Dtype  \n",
      "---  ------                      --------------  -----  \n",
      " 0   Department                  122 non-null    object \n",
      " 1   Week_Ending                 122 non-null    object \n",
      " 2   Year                        122 non-null    object \n",
      " 3   MAT                         122 non-null    object \n",
      " 4   Sales                       122 non-null    object \n",
      " 5   Discount1                   122 non-null    float64\n",
      " 6   Discount2                   122 non-null    float64\n",
      " 7   Holiday Dummy               122 non-null    object \n",
      " 8   Total SKU                   122 non-null    object \n",
      " 9   Gasoline Price              122 non-null    object \n",
      " 10  Average Price               122 non-null    float64\n",
      " 11  Email Clicks                122 non-null    object \n",
      " 12  Email Spends                122 non-null    object \n",
      " 13  Organic Search Impressions  122 non-null    object \n",
      " 14  Modular Video Impressions   122 non-null    object \n",
      " 15  Modular Video Spends        122 non-null    object \n",
      " 16  Paid Social Impressions     122 non-null    object \n",
      " 17  Paid Social Spends          122 non-null    object \n",
      " 18  Paid Search Impressions     122 non-null    object \n",
      " 19  Paid Search Spends          122 non-null    object \n",
      "dtypes: float64(3), object(17)\n",
      "memory usage: 19.2+ KB\n"
     ]
    }
   ],
   "source": [
    "df.info()"
   ]
  },
  {
   "cell_type": "markdown",
   "id": "ad5f7fe8",
   "metadata": {},
   "source": [
    "The variables cover:\n",
    "\n",
    "* Sales (dependent)\n",
    "\n",
    "* Base: Average Price, Total SKU\n",
    "\n",
    "* Paid Marketing: Paid Search, Paid Social, Modular Video , Emails (Impressions + Spends)\n",
    "\n",
    "* Non-Paid Marketing: Organic Search Impressions\n",
    "\n",
    "* Economic: Gasoline Price\n",
    "\n",
    "* Promotions: Discount1, Discount2\n",
    "\n",
    "* Events: Holiday"
   ]
  },
  {
   "cell_type": "markdown",
   "id": "7cba164a",
   "metadata": {},
   "source": [
    "### Data Cleaning & Formatting"
   ]
  },
  {
   "cell_type": "markdown",
   "id": "9b19002f",
   "metadata": {},
   "source": [
    "- The dataset had several numeric variables (e.g., `Sales`, `Email Clicks`, `Gasoline Price`) formatted in the Indian number system with commas (e.g., `\"5,54,97,076.1\"`), and also contained dashes (`'-'`) indicating missing values.\n",
    "    \n",
    "- These were **cleaned using a custom function** that:\n",
    "    \n",
    "    - Replaced commas,\n",
    "        \n",
    "    - Stripped whitespace,\n",
    "        \n",
    "    - Converted placeholders like `'-'` or `''` into `NaN`,\n",
    "        \n",
    "    - Cast values to `float`."
   ]
  },
  {
   "cell_type": "code",
   "execution_count": null,
   "id": "3cb7e09d",
   "metadata": {},
   "outputs": [],
   "source": [
    "def clean_numeric_safe(series):\n",
    "    \"\"\"\n",
    "    Cleans a pandas Series containing numeric data represented as strings.\n",
    "\n",
    "    This function:\n",
    "    - Converts all values to string to ensure consistency.\n",
    "    - Removes commas (e.g., converting '1,000' to '1000').\n",
    "    - Strips leading/trailing whitespace.\n",
    "    - Replaces dashes ('-') and empty strings ('') with NaN.\n",
    "    - Converts the cleaned values to floats.\n",
    "\n",
    "    Parameters:\n",
    "    series (pd.Series): A pandas Series that may contain numeric values in string format.\n",
    "\n",
    "    Returns:\n",
    "    pd.Series: A cleaned Series with float values and NaNs where appropriate.\n",
    "    \"\"\"\n",
    "    return (\n",
    "        series.astype(str)                          # Ensure all entries are strings\n",
    "        .str.replace(',', '', regex=False)          # Remove commas from numbers\n",
    "        .str.strip()                                # Remove whitespace from both ends\n",
    "        .replace({'-': np.nan, '': np.nan})         # Replace '-' and empty strings with NaN\n",
    "        .astype(float)                              # Convert cleaned strings to float\n",
    "    )\n",
    "\n",
    "# List of column names in the dataframe `df` that require cleaning\n",
    "columns_to_clean = [\n",
    "    'Sales', 'Total SKU', 'Gasoline Price',\n",
    "    'Email Clicks', 'Email Spends',\n",
    "    'Organic Search Impressions',\n",
    "    'Modular Video Impressions', 'Modular Video Spends',\n",
    "    'Paid Social Impressions', 'Paid Social Spends',\n",
    "    'Paid Search Impressions', 'Paid Search Spends'\n",
    "]\n",
    "\n",
    "# Apply the cleaning function to each column in the list\n",
    "for col in columns_to_clean:\n",
    "    df[col] = clean_numeric_safe(df[col])\n",
    "\n",
    "\n"
   ]
  },
  {
   "cell_type": "markdown",
   "id": "c8769b73",
   "metadata": {},
   "source": [
    "From `Week_Ending`,  we derived key **time features**:\n",
    "\n",
    "- `Week` (ISO week number)\n",
    "    \n",
    "- `Month` (calendar month)\n",
    "    \n",
    "- `Year` (calendar year)\n",
    "\n",
    "These features will be crucial for identifying **seasonality**, running **time series regressions**, and doing **marketing mix optimizations** later."
   ]
  },
  {
   "cell_type": "code",
   "execution_count": 8,
   "id": "f4b84137",
   "metadata": {},
   "outputs": [],
   "source": [
    "df['Week_Ending'] = pd.to_datetime(df['Week_Ending'], errors='coerce')\n",
    "df['Week'] = df['Week_Ending'].dt.isocalendar().week\n",
    "df['Month'] = df['Week_Ending'].dt.month\n",
    "df['Year'] = df['Week_Ending'].dt.year"
   ]
  },
  {
   "cell_type": "code",
   "execution_count": 9,
   "id": "e96842dd",
   "metadata": {},
   "outputs": [],
   "source": [
    "# Clean 'Holiday Dummy' to convert to binary format\n",
    "df['Holiday Dummy'] = df['Holiday Dummy'].str.strip().replace({'-': np.nan , '': np.nan}).fillna(0)\n",
    "df['Holiday Dummy'] = df['Holiday Dummy'].astype(float).astype(int)"
   ]
  },
  {
   "cell_type": "code",
   "execution_count": 10,
   "id": "00bd54b6",
   "metadata": {},
   "outputs": [
    {
     "data": {
      "text/plain": [
       "Holiday Dummy\n",
       "0    120\n",
       "1      2\n",
       "Name: count, dtype: int64"
      ]
     },
     "execution_count": 10,
     "metadata": {},
     "output_type": "execute_result"
    }
   ],
   "source": [
    "df['Holiday Dummy'].value_counts()"
   ]
  },
  {
   "cell_type": "code",
   "execution_count": null,
   "id": "6264e91b",
   "metadata": {},
   "outputs": [],
   "source": [
    "df.to_csv(r\"D:\\portfolio\\Fractal MMM\\Assignment\\PYQ2\\data\\mmm_data_cleaned.csv\", index=False)"
   ]
  }
 ],
 "metadata": {
  "kernelspec": {
   "display_name": "Python 3",
   "language": "python",
   "name": "python3"
  },
  "language_info": {
   "codemirror_mode": {
    "name": "ipython",
    "version": 3
   },
   "file_extension": ".py",
   "mimetype": "text/x-python",
   "name": "python",
   "nbconvert_exporter": "python",
   "pygments_lexer": "ipython3",
   "version": "3.12.0"
  }
 },
 "nbformat": 4,
 "nbformat_minor": 5
}
